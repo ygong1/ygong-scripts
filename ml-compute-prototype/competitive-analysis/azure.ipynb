{
 "cells": [
  {
   "cell_type": "markdown",
   "metadata": {},
   "source": [
    "Dev Environment Setup\n",
    "---------------------\n",
    "This is the *one-time* setup. \n",
    "\n",
    "1. create the conda env with proper SDK installed `azure` and use the conda environment to run the notebook \n",
    "2. down load the workspace config to `~/.azure/ygong/config.json` so that we can instantiate workspace from the config without needing supply the subscription, resourceGroup, etc all the time\n",
    "\n",
    "```bash\n",
    "# set up the conda environment for AzureCli\n",
    "conda create  -n azure python=3.10\n",
    "conda activate azure\n",
    "pip install azure-cli # 2.55.0 on Feb 2024 installation\n",
    "pip install azure-ai-ml\n",
    "pip install azure-identity\n",
    "pip install azureml-core\n",
    "\n",
    "# pip install azureml-sdk # will fail with the depedency issue\n",
    "```"
   ]
  },
  {
   "cell_type": "markdown",
   "metadata": {},
   "source": [
    "Analysis Goal\n",
    "-------------\n",
    "Competitive Analysis For AzureML Training CUJ on \n",
    "* compute resource creation and management \n",
    "* how do they manage runtime environment\n",
    "* workflow integration\n",
    "* interactive development experience\n",
    "* metrics and monitoring"
   ]
  },
  {
   "cell_type": "code",
   "execution_count": 20,
   "metadata": {},
   "outputs": [],
   "source": [
    "import json\n",
    "\n",
    "file_path = \"/Users/yu.gong/.azure/ygong/config.json\"\n",
    "with open(file_path, 'r') as file:\n",
    "    data = json.load(file)\n",
    "\n",
    "\n",
    "from azure.identity import DefaultAzureCredential\n",
    "from azure.ai.ml import MLClient\n",
    "from azure.ai.ml.entities import AmlCompute, ComputeInstance, VmSize\n",
    "subscription_id = data['subscription_id']\n",
    "resource_group = data['resource_group']\n",
    "workspace_name = data['workspace_name']\n",
    "\n",
    "credential = DefaultAzureCredential()\n",
    "ml_client = MLClient(credential, subscription_id, resource_group, workspace_name)\n",
    "\n",
    "# from azureml.core import Workspace\n",
    "# from azureml.core.compute import ComputeTarget, AmlCompute\n",
    "# from azureml.core.compute_target import ComputeTargetException\n",
    "\n",
    "# ws = Workspace.from_config(\"~/.azure/ygong\")\n"
   ]
  },
  {
   "cell_type": "markdown",
   "metadata": {},
   "source": [
    "Initialize the Compute Target\n",
    "-----------------------------\n",
    "\n",
    "The instantiated compute target type is \"Azure Machine Learning compute cluster\" that could scale up and down automatically. \n",
    "\n",
    "The interesting cluster creation configuration are \n",
    "1. `max_nodes` and `min_nodes` indicate the elasticity of the cluster \n",
    "2. `vm_priority` (\"Dedicate\" and \"Low Priority\") is specified at the cluster creation time \n",
    "3. *NO RUNTIME* is specified "
   ]
  },
  {
   "cell_type": "code",
   "execution_count": 21,
   "metadata": {},
   "outputs": [
    {
     "name": "stdout",
     "output_type": "stream",
     "text": [
      "Found existing cluster, use it.\n",
      "Succeeded\n",
      "AmlCompute wait for completion finished\n",
      "\n",
      "Minimum number of nodes requested have been provisioned\n"
     ]
    }
   ],
   "source": [
    "from azureml.core.compute import ComputeTarget, AmlCompute\n",
    "from azureml.core.compute_target import ComputeTargetException\n",
    "\n",
    "cluster_name = \"cpu-test\"\n",
    "try:\n",
    "    cpu_cluster = ComputeTarget(workspace=ws, name=cluster_name)\n",
    "    print('Found existing cluster, use it.')\n",
    "except ComputeTargetException:\n",
    "    compute_config = AmlCompute.provisioning_configuration(vm_size='STANDARD_D2_V2',\n",
    "                                                           max_nodes=4)\n",
    "    cpu_cluster = ComputeTarget.create(ws, cluster_name, compute_config)\n",
    "cpu_cluster.wait_for_completion(show_output=True)"
   ]
  },
  {
   "cell_type": "markdown",
   "metadata": {},
   "source": [
    "Submit a Job \n",
    "------------\n",
    "1. `compute` is optional if not specified, it will be serverless\n",
    "2. `environment` could be customized image or curated\n",
    "\n",
    "\n"
   ]
  },
  {
   "cell_type": "code",
   "execution_count": 23,
   "metadata": {},
   "outputs": [
    {
     "name": "stderr",
     "output_type": "stream",
     "text": [
      "\u001b[32mUploading competitive-analysis (0.02 MBs): 100%|██████████| 24755/24755 [00:00<00:00, 72637.24it/s]\n",
      "\u001b[39m\n",
      "\n"
     ]
    },
    {
     "data": {
      "text/html": [
       "<table style=\"width:100%\"><tr><th>Experiment</th><th>Name</th><th>Type</th><th>Status</th><th>Details Page</th></tr><tr><td>competitive-analysis</td><td>silver_fox_6z2gplqjkw</td><td>command</td><td>Starting</td><td><a href=\"https://ml.azure.com/runs/silver_fox_6z2gplqjkw?wsid=/subscriptions/8e39df30-d249-4143-a081-aa974968d4b8/resourcegroups/azureml-test/workspaces/test&amp;tid=c398a231-2fdc-4160-bb9e-30dfeb21f4d3\" target=\"_blank\" rel=\"noopener\">Link to Azure Machine Learning studio</a></td></tr></table>"
      ],
      "text/plain": [
       "Command({'parameters': {}, 'init': False, 'name': 'silver_fox_6z2gplqjkw', 'type': 'command', 'status': 'Starting', 'log_files': None, 'description': None, 'tags': {}, 'properties': {'mlflow.source.git.repoURL': 'git@github.com:ygong1/ygong-scripts.git', 'mlflow.source.git.branch': 'main', 'mlflow.source.git.commit': 'ec89e938ba3b1271180d6ba2dd738bcb970f2ddc', 'azureml.git.dirty': 'False', '_azureml.ComputeTargetType': 'amlctrain', '_azureml.ClusterName': None, 'ContentSnapshotId': 'a806ca42-aec9-4917-a022-8ef024ef0d2c'}, 'print_as_yaml': True, 'id': '/subscriptions/8e39df30-d249-4143-a081-aa974968d4b8/resourceGroups/azureml-test/providers/Microsoft.MachineLearningServices/workspaces/test/jobs/silver_fox_6z2gplqjkw', 'Resource__source_path': None, 'base_path': '/Users/yu.gong/workspace/ygong-scripts/ml-compute-prototype/competitive-analysis', 'creation_context': <azure.ai.ml.entities._system_data.SystemData object at 0x126bf1e10>, 'serialize': <msrest.serialization.Serializer object at 0x126bf3340>, 'allowed_keys': {}, 'key_restriction': False, 'logger': <Logger attr_dict (WARNING)>, 'display_name': 'credit_default_prediction', 'experiment_name': 'competitive-analysis', 'compute': None, 'services': {'Tracking': {'endpoint': 'azureml://westus2.api.azureml.ms/mlflow/v1.0/subscriptions/8e39df30-d249-4143-a081-aa974968d4b8/resourceGroups/azureml-test/providers/Microsoft.MachineLearningServices/workspaces/test?', 'type': 'Tracking'}, 'Studio': {'endpoint': 'https://ml.azure.com/runs/silver_fox_6z2gplqjkw?wsid=/subscriptions/8e39df30-d249-4143-a081-aa974968d4b8/resourcegroups/azureml-test/workspaces/test&tid=c398a231-2fdc-4160-bb9e-30dfeb21f4d3', 'type': 'Studio'}}, 'comment': None, 'job_inputs': {'data': {'type': 'uri_file', 'path': 'https://azuremlexamples.blob.core.windows.net/datasets/credit_card/default_of_credit_card_clients.csv', 'mode': 'ro_mount'}, 'test_train_ratio': '0.2', 'learning_rate': '0.25', 'registered_model_name': 'credit_defaults_model'}, 'job_outputs': {'default': {'type': 'uri_folder', 'path': 'azureml://datastores/workspaceartifactstore/ExperimentRun/dcid.silver_fox_6z2gplqjkw', 'mode': 'rw_mount'}}, 'inputs': {'data': <azure.ai.ml.entities._job.pipeline._io.base.NodeInput object at 0x126bf36d0>, 'test_train_ratio': <azure.ai.ml.entities._job.pipeline._io.base.NodeInput object at 0x126bf1de0>, 'learning_rate': <azure.ai.ml.entities._job.pipeline._io.base.NodeInput object at 0x126bf1d20>, 'registered_model_name': <azure.ai.ml.entities._job.pipeline._io.base.NodeInput object at 0x126bf1d80>}, 'outputs': {'default': <azure.ai.ml.entities._job.pipeline._io.base.NodeOutput object at 0x126bf1840>}, 'component': CommandComponent({'intellectual_property': None, 'auto_increment_version': True, 'source': 'REMOTE.WORKSPACE.JOB', 'is_anonymous': False, 'auto_delete_setting': None, 'name': 'silver_fox_6z2gplqjkw', 'description': None, 'tags': {}, 'properties': {}, 'print_as_yaml': True, 'id': None, 'Resource__source_path': None, 'base_path': '/Users/yu.gong/workspace/ygong-scripts/ml-compute-prototype/competitive-analysis', 'creation_context': <azure.ai.ml.entities._system_data.SystemData object at 0x126bf1e10>, 'serialize': <msrest.serialization.Serializer object at 0x126bf32e0>, 'command': 'python train.py --data ${{inputs.data}} --test_train_ratio ${{inputs.test_train_ratio}} --learning_rate ${{inputs.learning_rate}} --registered_model_name ${{inputs.registered_model_name}}', 'code': '/subscriptions/8e39df30-d249-4143-a081-aa974968d4b8/resourceGroups/azureml-test/providers/Microsoft.MachineLearningServices/workspaces/test/codes/aaf1e7a3-8388-4c1d-af0b-bf54c8b1e852/versions/1', 'environment_variables': {}, 'environment': 'azureml:AzureML-sklearn-1.0-ubuntu20.04-py38-cpu@latest', 'distribution': None, 'resources': None, 'queue_settings': None, 'version': None, 'latest_version': None, 'schema': None, 'type': 'command', 'display_name': 'credit_default_prediction', 'is_deterministic': True, 'inputs': {'data': {'type': 'uri_file', 'path': 'https://azuremlexamples.blob.core.windows.net/datasets/credit_card/default_of_credit_card_clients.csv', 'mode': 'ro_mount'}, 'test_train_ratio': {'type': 'string', 'default': '0.2'}, 'learning_rate': {'type': 'string', 'default': '0.25'}, 'registered_model_name': {'type': 'string', 'default': 'credit_defaults_model'}}, 'outputs': {'default': {'type': 'uri_folder', 'path': 'azureml://datastores/workspaceartifactstore/ExperimentRun/dcid.silver_fox_6z2gplqjkw', 'mode': 'rw_mount'}}, 'yaml_str': None, 'other_parameter': {'status': 'Starting', 'parameters': {}}, 'additional_includes': []}), 'referenced_control_flow_node_instance_id': None, 'kwargs': {'services': {'Tracking': {'endpoint': 'azureml://westus2.api.azureml.ms/mlflow/v1.0/subscriptions/8e39df30-d249-4143-a081-aa974968d4b8/resourceGroups/azureml-test/providers/Microsoft.MachineLearningServices/workspaces/test?', 'type': 'Tracking'}, 'Studio': {'endpoint': 'https://ml.azure.com/runs/silver_fox_6z2gplqjkw?wsid=/subscriptions/8e39df30-d249-4143-a081-aa974968d4b8/resourcegroups/azureml-test/workspaces/test&tid=c398a231-2fdc-4160-bb9e-30dfeb21f4d3', 'type': 'Studio'}}, 'status': 'Starting', 'creation_context': <azure.ai.ml.entities._system_data.SystemData object at 0x126bf1e10>}, 'instance_id': 'd57bdddd-4382-442f-be6c-1d1c87fbfe59', 'source': 'BUILDER', 'validate_required_input_not_provided': True, 'limits': None, 'identity': None, 'distribution': None, 'environment_variables': {}, 'environment': 'azureml:AzureML-sklearn-1.0-ubuntu20.04-py38-cpu@latest', 'resources': {'instance_count': 1, 'shm_size': '2g'}, 'queue_settings': {'job_tier': 'standard'}, 'swept': False})"
      ]
     },
     "execution_count": 23,
     "metadata": {},
     "output_type": "execute_result"
    }
   ],
   "source": [
    "from azure.ai.ml import command\n",
    "from azure.ai.ml import Input\n",
    "\n",
    "registered_model_name = \"credit_defaults_model\"\n",
    "\n",
    "job = command(\n",
    "    inputs=dict(\n",
    "        data=Input(\n",
    "            type=\"uri_file\",\n",
    "            path=\"https://azuremlexamples.blob.core.windows.net/datasets/credit_card/default_of_credit_card_clients.csv\",\n",
    "        ),\n",
    "        test_train_ratio=0.2,\n",
    "        learning_rate=0.25,\n",
    "        registered_model_name=registered_model_name,\n",
    "    ),\n",
    "    code=\"./\",  # location of source code\n",
    "    command=\"python train.py --data ${{inputs.data}} --test_train_ratio ${{inputs.test_train_ratio}} --learning_rate ${{inputs.learning_rate}} --registered_model_name ${{inputs.registered_model_name}}\",\n",
    "    environment=\"AzureML-sklearn-1.0-ubuntu20.04-py38-cpu@latest\",\n",
    "    display_name=\"credit_default_prediction\",\n",
    "    # compute=cluster_name\n",
    ")\n",
    "ml_client.create_or_update(job)\n",
    "\n"
   ]
  },
  {
   "cell_type": "markdown",
   "metadata": {},
   "source": [
    "Create Workflow\n",
    "---------------\n"
   ]
  },
  {
   "cell_type": "code",
   "execution_count": 26,
   "metadata": {},
   "outputs": [
    {
     "name": "stderr",
     "output_type": "stream",
     "text": [
      "\u001b[32mUploading default_of_credit_card_clients.csv\u001b[32m (< 1 MB): 100%|██████████| 2.90M/2.90M [00:01<00:00, 1.67MB/s]\n",
      "\u001b[39m\n",
      "\n"
     ]
    }
   ],
   "source": [
    "from azure.ai.ml.entities import Data\n",
    "from azure.ai.ml.constants import AssetTypes\n",
    "\n",
    "data_v1 = \"initial\"\n",
    "data_name = \"credit-card\"\n",
    "my_data = Data(name=data_name, version=data_v1, description=\"Credit card data\",\n",
    "    path=\"./azure-pipline/data/default_of_credit_card_clients.csv\", type=AssetTypes.URI_FILE,)\n",
    "\n",
    "## create data asset if it doesn't already exist:\n",
    "try:\n",
    "    data_asset = ml_client.data.get(name=\"credit-card\", version=v1)\n",
    "    print(f\"Data asset already exists. Name: {my_data.name}, version: {my_data.version}\")\n",
    "except:\n",
    "    ml_client.data.create_or_update(my_data)"
   ]
  },
  {
   "cell_type": "code",
   "execution_count": 30,
   "metadata": {},
   "outputs": [
    {
     "name": "stdout",
     "output_type": "stream",
     "text": [
      "Environment with name aml-scikit-learn is registered to workspace, the environment version is 0.3.0\n"
     ]
    }
   ],
   "source": [
    "# get a handle of the data asset and print the URI\n",
    "credit_data = ml_client.data.get(name=data_name, version=data_v1)\n",
    "\n",
    "from azure.ai.ml.entities import Environment\n",
    "import os\n",
    "\n",
    "custom_env_name = \"aml-scikit-learn\"\n",
    "\n",
    "pipeline_job_env = Environment(\n",
    "    name=custom_env_name,\n",
    "    description=\"Custom environment for Credit Card Defaults pipeline\",\n",
    "    tags={\"scikit-learn\": \"0.24.2\"},\n",
    "    conda_file=os.path.join(\"azure-pipline/env/\", \"conda.yaml\"),\n",
    "    image=\"mcr.microsoft.com/azureml/openmpi4.1.0-ubuntu20.04:latest\",\n",
    "    version=\"0.3.0\",\n",
    ")\n",
    "pipeline_job_env = ml_client.environments.create_or_update(pipeline_job_env)\n",
    "\n",
    "print(f\"Environment with name {pipeline_job_env.name} is registered to workspace, the environment version is {pipeline_job_env.version}\")"
   ]
  },
  {
   "cell_type": "code",
   "execution_count": 31,
   "metadata": {},
   "outputs": [
    {
     "name": "stderr",
     "output_type": "stream",
     "text": [
      "\u001b[32mUploading data_prep (0.0 MBs): 100%|██████████| 1384/1384 [00:00<00:00, 18580.97it/s]\n",
      "\u001b[39m\n",
      "\n",
      "\u001b[32mUploading train (0.0 MBs): 100%|██████████| 3394/3394 [00:00<00:00, 11958.24it/s]\n",
      "\u001b[39m\n",
      "\n"
     ]
    }
   ],
   "source": [
    "from azure.ai.ml import command\n",
    "from azure.ai.ml import Input, Output\n",
    "\n",
    "data_prep_component = command(\n",
    "    name=\"data_prep_credit_defaults\",\n",
    "    display_name=\"Data preparation for training\",\n",
    "    description=\"reads a .xl input, split the input to train and test\",\n",
    "    inputs={\n",
    "        \"data\": Input(type=\"uri_folder\"),\n",
    "        \"test_train_ratio\": Input(type=\"number\"),\n",
    "    },\n",
    "    outputs=dict(\n",
    "        train_data=Output(type=\"uri_folder\", mode=\"rw_mount\"),\n",
    "        test_data=Output(type=\"uri_folder\", mode=\"rw_mount\"),\n",
    "    ),\n",
    "    # The source folder of the component\n",
    "    code=\"./azure-pipline/components/data_prep\",\n",
    "    command=\"\"\"python data_prep.py \\\n",
    "            --data ${{inputs.data}} --test_train_ratio ${{inputs.test_train_ratio}} \\\n",
    "            --train_data ${{outputs.train_data}} --test_data ${{outputs.test_data}} \\\n",
    "            \"\"\",\n",
    "    environment=f\"{pipeline_job_env.name}:{pipeline_job_env.version}\",\n",
    ")\n",
    "data_prep_component = ml_client.create_or_update(data_prep_component.component)\n",
    "\n",
    "from azure.ai.ml import load_component\n",
    "\n",
    "# Loading the component from the yml file\n",
    "train_component = load_component(source=os.path.join(\"./azure-pipline/components/train\", \"train.yml\"))\n",
    "\n",
    "# Now we register the component to the workspace\n",
    "train_component = ml_client.create_or_update(train_component)\n",
    "\n",
    "\n"
   ]
  },
  {
   "cell_type": "code",
   "execution_count": 32,
   "metadata": {},
   "outputs": [],
   "source": [
    "from azure.ai.ml import dsl, Input, Output\n",
    "\n",
    "\n",
    "@dsl.pipeline(\n",
    "    compute=\"serverless\",  # \"serverless\" value runs pipeline on serverless compute\n",
    "    description=\"E2E data_perp-train pipeline\",\n",
    ")\n",
    "def credit_defaults_pipeline(\n",
    "    pipeline_job_data_input,\n",
    "    pipeline_job_test_train_ratio,\n",
    "    pipeline_job_learning_rate,\n",
    "    pipeline_job_registered_model_name,\n",
    "):\n",
    "    # using data_prep_function like a python call with its own inputs\n",
    "    data_prep_job = data_prep_component(\n",
    "        data=pipeline_job_data_input,\n",
    "        test_train_ratio=pipeline_job_test_train_ratio,\n",
    "    )\n",
    "\n",
    "    # using train_func like a python call with its own inputs\n",
    "    train_job = train_component(\n",
    "        train_data=data_prep_job.outputs.train_data,  # note: using outputs from previous step\n",
    "        test_data=data_prep_job.outputs.test_data,  # note: using outputs from previous step\n",
    "        learning_rate=pipeline_job_learning_rate,  # note: using a pipeline input as parameter\n",
    "        registered_model_name=pipeline_job_registered_model_name,\n",
    "    )\n",
    "\n",
    "    # a pipeline returns a dictionary of outputs\n",
    "    # keys will code for the pipeline output identifier\n",
    "    return {\n",
    "        \"pipeline_job_train_data\": data_prep_job.outputs.train_data,\n",
    "        \"pipeline_job_test_data\": data_prep_job.outputs.test_data,\n",
    "    }\n",
    "registered_model_name = \"credit_defaults_model\"\n",
    "\n",
    "# Let's instantiate the pipeline with the parameters of our choice\n",
    "pipeline = credit_defaults_pipeline(\n",
    "    pipeline_job_data_input=Input(type=\"uri_file\", path=credit_data.path),\n",
    "    pipeline_job_test_train_ratio=0.25,\n",
    "    pipeline_job_learning_rate=0.05,\n",
    "    pipeline_job_registered_model_name=registered_model_name,\n",
    ")"
   ]
  },
  {
   "cell_type": "code",
   "execution_count": 33,
   "metadata": {},
   "outputs": [
    {
     "name": "stdout",
     "output_type": "stream",
     "text": [
      "RunId: goofy_mango_m314hnym79\n",
      "Web View: https://ml.azure.com/runs/goofy_mango_m314hnym79?wsid=/subscriptions/8e39df30-d249-4143-a081-aa974968d4b8/resourcegroups/azureml-test/workspaces/test\n",
      "\n",
      "Streaming logs/azureml/executionlogs.txt\n",
      "========================================\n",
      "\n",
      "[2024-02-25 19:35:20Z] Submitting 1 runs, first five are: 22f08bfb:7214e119-f1ce-4aec-b8ce-ca6b02a406d6\n",
      "[2024-02-25 19:37:06Z] Completing processing run id 7214e119-f1ce-4aec-b8ce-ca6b02a406d6.\n",
      "[2024-02-25 19:37:06Z] Submitting 1 runs, first five are: 376da5f6:4868083a-34a9-4663-b079-872b08e7fdb5\n",
      "[2024-02-25 19:39:05Z] Completing processing run id 4868083a-34a9-4663-b079-872b08e7fdb5.\n",
      "\n",
      "Execution Summary\n",
      "=================\n",
      "RunId: goofy_mango_m314hnym79\n",
      "Web View: https://ml.azure.com/runs/goofy_mango_m314hnym79?wsid=/subscriptions/8e39df30-d249-4143-a081-aa974968d4b8/resourcegroups/azureml-test/workspaces/test\n",
      "\n"
     ]
    }
   ],
   "source": [
    "pipeline_job = ml_client.jobs.create_or_update(\n",
    "    pipeline,\n",
    "    # Project's name\n",
    "    experiment_name=\"e2e_registered_components\",\n",
    ")\n",
    "ml_client.jobs.stream(pipeline_job.name)\n"
   ]
  },
  {
   "cell_type": "code",
   "execution_count": null,
   "metadata": {},
   "outputs": [],
   "source": []
  }
 ],
 "metadata": {
  "kernelspec": {
   "display_name": "azure",
   "language": "python",
   "name": "python3"
  },
  "language_info": {
   "codemirror_mode": {
    "name": "ipython",
    "version": 3
   },
   "file_extension": ".py",
   "mimetype": "text/x-python",
   "name": "python",
   "nbconvert_exporter": "python",
   "pygments_lexer": "ipython3",
   "version": "3.10.13"
  }
 },
 "nbformat": 4,
 "nbformat_minor": 2
}
